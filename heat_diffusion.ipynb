{
 "cells": [
  {
   "cell_type": "code",
   "execution_count": 5,
   "metadata": {},
   "outputs": [],
   "source": [
    "import math\n",
    "import scipy\n",
    "import numpy as np\n",
    "import matplotlib.pyplot as plt\n",
    "import scipy.integrate as integrate\n",
    "from tqdm import tqdm   # gives progression bar\n",
    "import pickle\n",
    "%matplotlib inline\n"
   ]
  },
  {
   "cell_type": "code",
   "execution_count": 6,
   "metadata": {},
   "outputs": [],
   "source": [
    "# constants in SI\n",
    "m = 9.10938291E-31 # mass of electron\n",
    "q = 1.60217657E-19 # charge of electron\n",
    "ε = 8.85418782E-12 # permittivity of free space\n",
    "h = 6.62606957E-34 # plancks magical number\n",
    "hbar = 1.054571800E-34 # reduced planck\n",
    "Rydberg = 2.1787E-18 # Rydberg energy (in joules)\n",
    "avogadro = 6.02214179E23\n",
    "# units\n",
    "Å = 1E-10 # m to angstrom\n",
    "k = 1.38064852E-23"
   ]
  },
  {
   "cell_type": "code",
   "execution_count": 7,
   "metadata": {},
   "outputs": [],
   "source": [
    "def diffusivity(thermal_conductivity, d, molecular_weight,heat_cap):\n",
    "    # diffusivity = thermal_conductivity / (density*heat capacity)\n",
    "    density = (molecular_weight/avogadro) / (d**3) # g/m^3 \n",
    "    heat_cap = heat_capacity / molecular_weight # J/g/K\n",
    "    return thermal_conductivity / (density*heat_cap) # m^2/s"
   ]
  },
  {
   "cell_type": "markdown",
   "metadata": {},
   "source": [
    "## Finite difference method - anisotropic\n",
    "\n",
    "- We are going to use a finite difference method (explicit forward euler scheme) to solve numerically\n",
    "- Following https://thebrickinthesky.wordpress.com/2013/08/17/maths-with-python-3-diffusion-equation/\n",
    "- Using theory: https://hinderedsettling.com/2015/02/06/exploring-the-diffusion-equation-with-python/\n",
    "- Generalisation to higher dimensionalities: http://web.mit.edu/1.061/www/dream/THREE/THREETHEORY.PDF"
   ]
  },
  {
   "cell_type": "code",
   "execution_count": 8,
   "metadata": {},
   "outputs": [],
   "source": [
    "def assess_stability(D_max,dx,dt):\n",
    "    # Key dimensionless parameter which determines stability is\n",
    "    F = (D_max*dt)/(dx*dx)\n",
    "    print (\"F is {}\".format(F))\n",
    "# F needs to be less than 0.5 for a stable solution"
   ]
  },
  {
   "cell_type": "code",
   "execution_count": 14,
   "metadata": {},
   "outputs": [],
   "source": [
    "def initial_conditions(polaron_radius, temperature, dx, dy, dz, dt, nx, ny, nz, nt):   \n",
    "    # Create p matrix which will contain the numerical solution.\n",
    "    p=np.zeros([nx,ny,nz,nt])\n",
    "\n",
    "    initial_hot_count = 0\n",
    "    for y in range(0,ny-1):\n",
    "        for x in range(0,nx-1):\n",
    "            for z in range(0,nz-1):\n",
    "                if (( ((dx*(x - round(nx/2)))**2) + ((dy*(y - round(ny/2)))**2)+((dz*(z - round(nz/2)))**2))**(0.5)) < polaron_radius :\n",
    "                    initial_hot_count += 1\n",
    "                    p[x,y,z,0] = temperature # we just need temperature above RT: difference is what matters\n",
    "                else: \n",
    "                    p[x,y,z,0] = 0\n",
    "    print(\"initial hot cells:{}\".format(initial_hot_count))\n",
    "    return p"
   ]
  },
  {
   "cell_type": "code",
   "execution_count": 15,
   "metadata": {},
   "outputs": [],
   "source": [
    "# use \"fridge conditions\": the edges are set to zero.\n",
    "def step_through(p, Dx, Dy, Dz, dx, dy, dz, dt, nx, ny, nz, nt):\n",
    "    for m in tqdm(range(1,nt)):\n",
    "    # Take time slices and apply central difference formula\n",
    "        p[1:nx-1,1:ny-1,1:nz-1,m]=p[1:nx-1,1:ny-1,1:nz-1,m-1]+(dt*Dx*(p[2:nx,1:ny-1,1:nz-1,m-1]-2*p[1:nx-1,1:ny-1,1:nz-1,m-1]+p[0:nx-2,1:ny-1,1:nz-1,m-1])/np.power(dx,2))+(Dy*dt*(p[1:nx-1,2:ny,1:nz-1, m-1]-2*p[1:nx-1,1:ny-1,1:nz-1, m-1]+p[1:nx-1,0:ny-2,1:nz-1, m-1])/np.power(dy,2)) + (Dz*dt*(p[1:nx-1,1:ny-1,2:nz,m-1]-2*p[1:nx-1,1:ny-1,1:nz-1,m-1]+p[1:nx-1,1:ny-1,0:nz-2,m-1])/np.power(dz,2))\n",
    "    \n",
    "    return p"
   ]
  },
  {
   "cell_type": "code",
   "execution_count": 11,
   "metadata": {},
   "outputs": [],
   "source": [
    "def initial_conditions_multiple_hotspots(polaron_radius, temperature, dx, dy, dz, dt, nx, ny, nz, nt, step, number):   \n",
    "    # Create p matrix which will contain the numerical solution.\n",
    "    p=np.zeros([nx,ny,nz,nt])\n",
    "\n",
    "    initial_hot_count = 0\n",
    "    steps = [x*step for x in range(1,number+1)]\n",
    "    for a in steps:\n",
    "        x_position = a\n",
    "        for b in steps:\n",
    "            y_position = b\n",
    "            for c in steps:\n",
    "                z_position = c\n",
    "                for y in range(0,ny-1):\n",
    "                    for x in range(0,nx-1):\n",
    "                        for z in range(0,nz-1):\n",
    "                            if (( ((dx*(x - round(nx*x_position)))**2) + ((dy*(y - round(ny*y_position)))**2)+((dz*(z - round(nz*z_position)))**2))**(0.5)) < polaron_radius :\n",
    "                                initial_hot_count += 1\n",
    "                                p[x,y,z,0] = temperature # we just need temperature above RT: difference is what matters\n",
    "\n",
    "    print(\"initial hot cells:{}\".format(initial_hot_count))\n",
    "    return p"
   ]
  },
  {
   "cell_type": "code",
   "execution_count": 12,
   "metadata": {},
   "outputs": [],
   "source": [
    "# use periodic boundary conditions\n",
    "def step_through_PBCs(p, Dx, Dy, Dz,  dx, dy, dz, dt, nx, ny, nz, nt):\n",
    "    for m in tqdm(range(1,nt)):\n",
    "    # Take time slices and apply central difference formula - using np.roll and np.rollaxis now for cycling forwards and backwards respectively through the array to achieve PBC's.\n",
    "        p[:,:,:,m]=p[:,:,:,m-1]+(dt*Dx*(np.roll(p[:,:,:,m-1],nx-1,axis=0)-2*p[:,:,:,m-1]+np.roll(p[:,:,:,m-1],1,axis=0))/np.power(dx,2)) + (dt*Dy*(np.roll(p[:,:,:, m-1],ny-1,axis=1)-2*p[:,:,:, m-1]+np.roll(p[:,:,:, m-1],1,axis=1))/np.power(dy,2)) + (dt*Dx*(np.roll(p[:,:,:,m-1],nz-1,axis=2)-2*p[:,:,:,m-1]+np.roll(p[:,:,:,m-1],1,axis=2))/np.power(dz,2))\n",
    "    return p"
   ]
  },
  {
   "cell_type": "code",
   "execution_count": 13,
   "metadata": {},
   "outputs": [],
   "source": [
    "def calculate_temperature_polaron(nx, ny, nz, dx, dy, dz, dt, p, polaron_radius, time):\n",
    "    temp = 0\n",
    "    count = 0\n",
    "    for y in range(0,ny-1):\n",
    "        for x in range(0,nx-1):\n",
    "            for z in range(0,nz-1):\n",
    "                if (( ((dx*(x - round(nx/2)))**2) + ((dy*(y - round(ny/2)))**2)+((dz*(z - round(nz/2)))**2))**(0.5)) < polaron_radius :\n",
    "                    temp += p[x,y,z,time]\n",
    "                    count += 1\n",
    "    return temp/count"
   ]
  },
  {
   "cell_type": "markdown",
   "metadata": {},
   "source": [
    "## Gaussian convolution - isotropic\n",
    "\n",
    "Note that the `crank_diffusion_sphere` was the method used in the hot carrier cooling paper (2017)\n",
    "\n",
    "- Theory: http://hplgit.github.io/num-methods-for-PDEs/doc/pub/diffu/sphinx/._main_diffu001.html\n",
    "- Theory: http://web.mit.edu/course/1/1.061/www/dream/THREE/THREETHEORY.PDF\n",
    "- https://www.amherst.edu/media/view/103447/original/Diffusion%2Bpart%2B1%2BPDF.pdf\n",
    "- http://www1.maths.leeds.ac.uk/~kersale/Teach/M3414/Notes/m3414_1.pdf\n",
    "- https://math.stackexchange.com/questions/833002/distance-between-two-points-in-spherical-coordinates\n",
    "- https://www.khanacademy.org/math/multivariable-calculus/integrating-multivariable-functions/triple-integrals-a/a/triple-integrals-in-spherical-coordinates"
   ]
  },
  {
   "cell_type": "code",
   "execution_count": 151,
   "metadata": {},
   "outputs": [],
   "source": [
    "def gaussian_solution_cube(initial_temperature, polaron_radius, diffusivity, x1, y1, z1, time ):\n",
    "    temperature = integrate.tplquad(diffusion_equation_cube,-polaron_radius,polaron_radius, lambda x: -polaron_radius,lambda x: polaron_radius,lambda x,y: -polaron_radius,lambda x,y: polaron_radius,args=(initial_temperature,diffusivity,x1,y1,z1,time))   \n",
    "    return temperature\n",
    "\n",
    "def diffusion_equation_cube(x,y,z,initial_temperature,diffusivity, x1, y1, z1, time):\n",
    "    return initial_temperature*(1/(np.sqrt((4*math.pi*diffusivity*time)**3)))*math.exp(-((((x1-x)**2)+(y1-y)**2)+(z1-z)**2)/(4*diffusivity*time))\n",
    "\n",
    "## WIP\n",
    "def gaussian_solution_sphere(initial_temperature, polaron_radius, diffusivity, x, time ):\n",
    "    temperature = integrate.quad(diffusion_equation_sphere,0,polaron_radius, args=(initial_temperature,diffusivity, x, time))   \n",
    "    return temperature\n",
    "\n",
    "## WIP\n",
    "def diffusion_equation_sphere(r,initial_temperature,diffusivity, x, time):\n",
    "    return (initial_temperature*(1/(np.sqrt(((diffusivity*time)**3)*4*math.pi)))*r*r*math.exp(-(((x-r)**2))/(4*diffusivity*time)))\n",
    "\n",
    "def crank_diffusion_sphere(initial_temperature,polaron_radius,D,position,time):\n",
    "    # from Crank's The Mathematics of Diffusion\n",
    "    return 0.5*initial_temperature*(math.erf((polaron_radius+position)/np.sqrt(4*D*time)) + math.erf((polaron_radius-position)/np.sqrt(4*D*time))) - ((initial_temperature/position)*np.sqrt(D*time/math.pi)*(math.exp(-((polaron_radius-position)**2)/(4*D*time))-math.exp(-((polaron_radius+position)**2)/(4*D*time))))"
   ]
  },
  {
   "cell_type": "markdown",
   "metadata": {},
   "source": [
    "## Point heat source"
   ]
  },
  {
   "cell_type": "code",
   "execution_count": 107,
   "metadata": {},
   "outputs": [],
   "source": [
    "def point_source(heat,diffusivity,time,position,radius):\n",
    "    # heat is diffusing not temperature, it returns a concentration of energy\n",
    "\n",
    "    return (heat)*(1/((4*math.pi*diffusivity*time)**(3/2)))*math.exp(-((position**2)/(4*diffusivity*time)))\n"
   ]
  },
  {
   "cell_type": "code",
   "execution_count": null,
   "metadata": {},
   "outputs": [],
   "source": []
  },
  {
   "cell_type": "code",
   "execution_count": null,
   "metadata": {},
   "outputs": [],
   "source": []
  },
  {
   "cell_type": "code",
   "execution_count": 421,
   "metadata": {},
   "outputs": [],
   "source": [
    "\n"
   ]
  },
  {
   "cell_type": "code",
   "execution_count": null,
   "metadata": {
    "collapsed": true
   },
   "outputs": [],
   "source": []
  }
 ],
 "metadata": {
  "kernelspec": {
   "display_name": "Python 3",
   "language": "python",
   "name": "python3"
  },
  "language_info": {
   "codemirror_mode": {
    "name": "ipython",
    "version": 3
   },
   "file_extension": ".py",
   "mimetype": "text/x-python",
   "name": "python",
   "nbconvert_exporter": "python",
   "pygments_lexer": "ipython3",
   "version": "3.6.1"
  }
 },
 "nbformat": 4,
 "nbformat_minor": 1
}
